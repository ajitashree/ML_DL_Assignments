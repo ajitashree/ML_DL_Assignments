{
 "cells": [
  {
   "cell_type": "code",
   "execution_count": 1,
   "metadata": {
    "collapsed": true
   },
   "outputs": [],
   "source": [
    "import tensorflow as tf\n",
    "import numpy as np\n",
    "import pandas as pd"
   ]
  },
  {
   "cell_type": "code",
   "execution_count": 29,
   "metadata": {},
   "outputs": [],
   "source": [
    "n_inputs = 28*28\n",
    "n_hidden1 = 300\n",
    "n_hidden2 = 100\n",
    "n_outputs = 10"
   ]
  },
  {
   "cell_type": "code",
   "execution_count": 30,
   "metadata": {},
   "outputs": [],
   "source": [
    "X = tf.placeholder(tf.float32, shape=(None, n_inputs), name=\"X\")\n",
    "y = tf.placeholder(tf.int64, shape=(None), name=\"y\")"
   ]
  },
  {
   "cell_type": "code",
   "execution_count": 50,
   "metadata": {},
   "outputs": [
    {
     "data": {
      "text/plain": [
       "' \\ndef neuron_layer(X, n_neurons, name, activation=None):\\n    with tf.name_scope(name):\\n        n_inputs = int(X.get_shape()[1])\\n        stddev = 2 / np.sqrt(n_inputs)\\n        init = tf.truncated_normal((n_inputs, n_neurons), stddev=stddev)\\n        W = tf.Variable(init, name=\"kernel\")\\n        b = tf.Variable(tf.zeros([n_neurons]), name=\"bias\")\\n        Z = tf.matmul(X, W) + b\\n        if activation is not None:\\n            return activation(Z)\\n        else:\\n            return Z \\n'"
      ]
     },
     "execution_count": 50,
     "metadata": {},
     "output_type": "execute_result"
    }
   ],
   "source": [
    "\"\"\" \n",
    "def neuron_layer(X, n_neurons, name, activation=None):\n",
    "    with tf.name_scope(name):\n",
    "        n_inputs = int(X.get_shape()[1])\n",
    "        stddev = 2 / np.sqrt(n_inputs)\n",
    "        init = tf.truncated_normal((n_inputs, n_neurons), stddev=stddev)\n",
    "        W = tf.Variable(init, name=\"kernel\")\n",
    "        b = tf.Variable(tf.zeros([n_neurons]), name=\"bias\")\n",
    "        Z = tf.matmul(X, W) + b\n",
    "        if activation is not None:\n",
    "            return activation(Z)\n",
    "        else:\n",
    "            return Z \n",
    "\"\"\""
   ]
  },
  {
   "cell_type": "code",
   "execution_count": 49,
   "metadata": {},
   "outputs": [
    {
     "data": {
      "text/plain": [
       "'\\nwith tf.name_scope(\"dnn\"):\\n    hidden1 = neuron_layer(X, n_hidden1, name=\"hidden1\",\\n                           activation=tf.nn.relu)\\n    hidden2 = neuron_layer(hidden1, n_hidden2, name=\"hidden2\",\\n                           activation=tf.nn.relu)\\n    logits = neuron_layer(hidden2, n_outputs, name=\"outputs\")\\n'"
      ]
     },
     "execution_count": 49,
     "metadata": {},
     "output_type": "execute_result"
    }
   ],
   "source": [
    "\"\"\"\n",
    "with tf.name_scope(\"dnn\"):\n",
    "    hidden1 = neuron_layer(X, n_hidden1, name=\"hidden1\",\n",
    "                           activation=tf.nn.relu)\n",
    "    hidden2 = neuron_layer(hidden1, n_hidden2, name=\"hidden2\",\n",
    "                           activation=tf.nn.relu)\n",
    "    logits = neuron_layer(hidden2, n_outputs, name=\"outputs\")\n",
    "\"\"\""
   ]
  },
  {
   "cell_type": "code",
   "execution_count": 33,
   "metadata": {
    "collapsed": true
   },
   "outputs": [],
   "source": [
    "with tf.name_scope(\"dnn\"):\n",
    "    hidden1 = tf.layers.dense(X, n_hidden1, name=\"hidden1\",\n",
    "                              activation=tf.nn.relu)\n",
    "    hidden2 = tf.layers.dense(hidden1, n_hidden2, name=\"hidden2\",\n",
    "                              activation=tf.nn.relu)\n",
    "    logits = tf.layers.dense(hidden2, n_outputs, name=\"outputs\")"
   ]
  },
  {
   "cell_type": "code",
   "execution_count": 34,
   "metadata": {
    "collapsed": true
   },
   "outputs": [],
   "source": [
    "with tf.name_scope(\"loss\"):\n",
    "    xentropy = tf.nn.sparse_softmax_cross_entropy_with_logits(labels=y,\n",
    "                                                              logits=logits)\n",
    "    loss = tf.reduce_mean(xentropy, name=\"loss\")"
   ]
  },
  {
   "cell_type": "code",
   "execution_count": 35,
   "metadata": {
    "collapsed": true
   },
   "outputs": [],
   "source": [
    "learning_rate = 0.01\n",
    "\n",
    "with tf.name_scope(\"train\"):\n",
    "    optimizer = tf.train.GradientDescentOptimizer(learning_rate)\n",
    "    training_op = optimizer.minimize(loss)"
   ]
  },
  {
   "cell_type": "code",
   "execution_count": 36,
   "metadata": {
    "collapsed": true
   },
   "outputs": [],
   "source": [
    "with tf.name_scope(\"eval\"):\n",
    "    correct = tf.nn.in_top_k(logits, y, 1)\n",
    "    accuracy = tf.reduce_mean(tf.cast(correct, tf.float32))"
   ]
  },
  {
   "cell_type": "code",
   "execution_count": 37,
   "metadata": {
    "collapsed": true
   },
   "outputs": [],
   "source": [
    "init = tf.global_variables_initializer()\n",
    "saver = tf.train.Saver()"
   ]
  },
  {
   "cell_type": "code",
   "execution_count": 38,
   "metadata": {},
   "outputs": [
    {
     "name": "stdout",
     "output_type": "stream",
     "text": [
      "Successfully downloaded train-images-idx3-ubyte.gz 9912422 bytes.\n",
      "Extracting /tmp/data/train-images-idx3-ubyte.gz\n",
      "Successfully downloaded train-labels-idx1-ubyte.gz 28881 bytes.\n",
      "Extracting /tmp/data/train-labels-idx1-ubyte.gz\n",
      "Successfully downloaded t10k-images-idx3-ubyte.gz 1648877 bytes.\n",
      "Extracting /tmp/data/t10k-images-idx3-ubyte.gz\n",
      "Successfully downloaded t10k-labels-idx1-ubyte.gz 4542 bytes.\n",
      "Extracting /tmp/data/t10k-labels-idx1-ubyte.gz\n"
     ]
    }
   ],
   "source": [
    "from tensorflow.examples.tutorials.mnist import input_data\n",
    "mnist = input_data.read_data_sets(\"/tmp/data/\")"
   ]
  },
  {
   "cell_type": "code",
   "execution_count": 43,
   "metadata": {},
   "outputs": [
    {
     "name": "stdout",
     "output_type": "stream",
     "text": [
      "0 Train accuracy: 0.88 Test accuracy: 0.8765\n",
      "1 Train accuracy: 0.87 Test accuracy: 0.9032\n",
      "2 Train accuracy: 0.89 Test accuracy: 0.9169\n",
      "3 Train accuracy: 0.95 Test accuracy: 0.9244\n",
      "4 Train accuracy: 0.9 Test accuracy: 0.9294\n",
      "5 Train accuracy: 0.95 Test accuracy: 0.932\n",
      "6 Train accuracy: 0.96 Test accuracy: 0.9368\n",
      "7 Train accuracy: 0.88 Test accuracy: 0.939\n",
      "8 Train accuracy: 0.96 Test accuracy: 0.9414\n",
      "9 Train accuracy: 0.95 Test accuracy: 0.9423\n",
      "10 Train accuracy: 0.98 Test accuracy: 0.9439\n",
      "11 Train accuracy: 0.95 Test accuracy: 0.9448\n",
      "12 Train accuracy: 0.96 Test accuracy: 0.9491\n",
      "13 Train accuracy: 0.96 Test accuracy: 0.95\n",
      "14 Train accuracy: 0.93 Test accuracy: 0.9514\n",
      "15 Train accuracy: 0.97 Test accuracy: 0.9535\n",
      "16 Train accuracy: 0.93 Test accuracy: 0.955\n",
      "17 Train accuracy: 0.98 Test accuracy: 0.9559\n",
      "18 Train accuracy: 0.95 Test accuracy: 0.9566\n",
      "19 Train accuracy: 1.0 Test accuracy: 0.9583\n",
      "20 Train accuracy: 0.99 Test accuracy: 0.9577\n",
      "21 Train accuracy: 0.98 Test accuracy: 0.9598\n",
      "22 Train accuracy: 0.97 Test accuracy: 0.9602\n",
      "23 Train accuracy: 0.99 Test accuracy: 0.9623\n",
      "24 Train accuracy: 0.99 Test accuracy: 0.9636\n",
      "25 Train accuracy: 0.95 Test accuracy: 0.9641\n",
      "26 Train accuracy: 0.96 Test accuracy: 0.964\n",
      "27 Train accuracy: 0.97 Test accuracy: 0.9651\n",
      "28 Train accuracy: 1.0 Test accuracy: 0.9658\n",
      "29 Train accuracy: 0.97 Test accuracy: 0.9659\n",
      "30 Train accuracy: 0.97 Test accuracy: 0.9661\n",
      "31 Train accuracy: 0.96 Test accuracy: 0.9672\n",
      "32 Train accuracy: 0.97 Test accuracy: 0.9676\n",
      "33 Train accuracy: 0.97 Test accuracy: 0.9665\n",
      "34 Train accuracy: 0.98 Test accuracy: 0.9688\n",
      "35 Train accuracy: 0.99 Test accuracy: 0.9688\n",
      "36 Train accuracy: 0.98 Test accuracy: 0.9695\n",
      "37 Train accuracy: 0.96 Test accuracy: 0.9688\n",
      "38 Train accuracy: 0.98 Test accuracy: 0.9703\n",
      "39 Train accuracy: 0.98 Test accuracy: 0.9696\n",
      "40 Train accuracy: 0.99 Test accuracy: 0.9699\n",
      "41 Train accuracy: 1.0 Test accuracy: 0.9704\n",
      "42 Train accuracy: 0.98 Test accuracy: 0.9711\n",
      "43 Train accuracy: 0.97 Test accuracy: 0.9718\n",
      "44 Train accuracy: 0.99 Test accuracy: 0.9724\n",
      "45 Train accuracy: 1.0 Test accuracy: 0.9722\n",
      "46 Train accuracy: 0.98 Test accuracy: 0.973\n",
      "47 Train accuracy: 1.0 Test accuracy: 0.9721\n",
      "48 Train accuracy: 0.98 Test accuracy: 0.9734\n",
      "49 Train accuracy: 0.98 Test accuracy: 0.9744\n",
      "50 Train accuracy: 1.0 Test accuracy: 0.9743\n",
      "51 Train accuracy: 0.99 Test accuracy: 0.9747\n",
      "52 Train accuracy: 0.98 Test accuracy: 0.975\n",
      "53 Train accuracy: 1.0 Test accuracy: 0.9741\n",
      "54 Train accuracy: 0.98 Test accuracy: 0.9748\n",
      "55 Train accuracy: 0.99 Test accuracy: 0.9745\n",
      "56 Train accuracy: 0.99 Test accuracy: 0.9752\n",
      "57 Train accuracy: 1.0 Test accuracy: 0.9755\n",
      "58 Train accuracy: 1.0 Test accuracy: 0.9759\n",
      "59 Train accuracy: 0.99 Test accuracy: 0.9761\n",
      "60 Train accuracy: 0.99 Test accuracy: 0.9758\n",
      "61 Train accuracy: 1.0 Test accuracy: 0.9763\n",
      "62 Train accuracy: 0.99 Test accuracy: 0.9763\n",
      "63 Train accuracy: 0.98 Test accuracy: 0.9765\n",
      "64 Train accuracy: 0.99 Test accuracy: 0.9761\n",
      "65 Train accuracy: 0.99 Test accuracy: 0.9767\n",
      "66 Train accuracy: 0.99 Test accuracy: 0.977\n",
      "67 Train accuracy: 1.0 Test accuracy: 0.9775\n",
      "68 Train accuracy: 1.0 Test accuracy: 0.9766\n",
      "69 Train accuracy: 0.99 Test accuracy: 0.9767\n",
      "70 Train accuracy: 0.99 Test accuracy: 0.9761\n",
      "71 Train accuracy: 0.99 Test accuracy: 0.9771\n",
      "72 Train accuracy: 0.97 Test accuracy: 0.9779\n",
      "73 Train accuracy: 1.0 Test accuracy: 0.9771\n",
      "74 Train accuracy: 1.0 Test accuracy: 0.978\n",
      "75 Train accuracy: 0.99 Test accuracy: 0.9773\n",
      "76 Train accuracy: 1.0 Test accuracy: 0.9779\n",
      "77 Train accuracy: 1.0 Test accuracy: 0.977\n",
      "78 Train accuracy: 0.99 Test accuracy: 0.9773\n",
      "79 Train accuracy: 1.0 Test accuracy: 0.9777\n",
      "80 Train accuracy: 1.0 Test accuracy: 0.9776\n",
      "81 Train accuracy: 0.97 Test accuracy: 0.9784\n",
      "82 Train accuracy: 1.0 Test accuracy: 0.978\n",
      "83 Train accuracy: 0.99 Test accuracy: 0.9784\n",
      "84 Train accuracy: 0.99 Test accuracy: 0.9786\n",
      "85 Train accuracy: 0.99 Test accuracy: 0.9781\n",
      "86 Train accuracy: 1.0 Test accuracy: 0.9787\n",
      "87 Train accuracy: 1.0 Test accuracy: 0.9779\n",
      "88 Train accuracy: 1.0 Test accuracy: 0.9786\n",
      "89 Train accuracy: 1.0 Test accuracy: 0.9785\n",
      "90 Train accuracy: 0.99 Test accuracy: 0.9782\n",
      "91 Train accuracy: 0.99 Test accuracy: 0.9783\n",
      "92 Train accuracy: 1.0 Test accuracy: 0.9783\n",
      "93 Train accuracy: 1.0 Test accuracy: 0.9786\n",
      "94 Train accuracy: 1.0 Test accuracy: 0.979\n",
      "95 Train accuracy: 1.0 Test accuracy: 0.9784\n",
      "96 Train accuracy: 0.98 Test accuracy: 0.9787\n",
      "97 Train accuracy: 1.0 Test accuracy: 0.9787\n",
      "98 Train accuracy: 0.99 Test accuracy: 0.9787\n",
      "99 Train accuracy: 1.0 Test accuracy: 0.9786\n"
     ]
    }
   ],
   "source": [
    "n_epochs = 100\n",
    "batch_size = 100\n",
    "\n",
    "with tf.Session() as sess:\n",
    "    init.run()\n",
    "    for epoch in range(n_epochs):\n",
    "        for iteration in range(mnist.train.num_examples // batch_size):\n",
    "            X_batch, y_batch = mnist.train.next_batch(batch_size)\n",
    "            sess.run(training_op, feed_dict={X: X_batch, y: y_batch})\n",
    "        acc_train = accuracy.eval(feed_dict={X: X_batch, y: y_batch})\n",
    "        acc_test = accuracy.eval(feed_dict={X: mnist.test.images,\n",
    "                                            y: mnist.test.labels})\n",
    "        print(epoch, \"Train accuracy:\", acc_train, \"Test accuracy:\", acc_test)\n",
    "\n",
    "    save_path = saver.save(sess, \"./my_model_final.ckpt\")"
   ]
  },
  {
   "cell_type": "code",
   "execution_count": null,
   "metadata": {},
   "outputs": [],
   "source": []
  },
  {
   "cell_type": "code",
   "execution_count": null,
   "metadata": {
    "collapsed": true
   },
   "outputs": [],
   "source": []
  }
 ],
 "metadata": {
  "kernelspec": {
   "display_name": "Python 3",
   "language": "python",
   "name": "python3"
  },
  "language_info": {
   "codemirror_mode": {
    "name": "ipython",
    "version": 3
   },
   "file_extension": ".py",
   "mimetype": "text/x-python",
   "name": "python",
   "nbconvert_exporter": "python",
   "pygments_lexer": "ipython3",
   "version": "3.6.2"
  }
 },
 "nbformat": 4,
 "nbformat_minor": 2
}
