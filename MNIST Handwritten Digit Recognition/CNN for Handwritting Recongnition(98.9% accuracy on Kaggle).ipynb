{
  "cells": [
    {
      "metadata": {
        "_cell_guid": "c4c5341f-19b1-48bd-9600-a0b8cda90a37",
        "_uuid": "26b096baa4221f8d473633d59e590746a233506f",
        "trusted": false,
        "collapsed": true
      },
      "cell_type": "code",
      "source": "# This Python 3 environment comes with many helpful analytics libraries installed\n# It is defined by the kaggle/python docker image: https://github.com/kaggle/docker-python\n# For example, here's several helpful packages to load in \n\nimport numpy as np # linear algebra\nimport pandas as pd # data processing, CSV file I/O (e.g. pd.read_csv)\n\n# Input data files are available in the \"../input/\" directory.\n# For example, running this (by clicking run or pressing Shift+Enter) will list the files in the input directory\n\nfrom subprocess import check_output\nprint(check_output([\"ls\", \"../input\"]).decode(\"utf8\"))\n\n# Any results you write to the current directory are saved as output.",
      "execution_count": null,
      "outputs": []
    },
    {
      "metadata": {
        "_cell_guid": "54714925-335c-4600-af0d-eaf989afcf04",
        "collapsed": true,
        "_uuid": "89bbd18c646d32666ef2947cf1274cb06009f86e",
        "trusted": false
      },
      "cell_type": "code",
      "source": "train = pd.read_csv(\"../input/train.csv\")\ntest = pd.read_csv(\"../input/test.csv\")",
      "execution_count": null,
      "outputs": []
    },
    {
      "metadata": {
        "_cell_guid": "be113968-10f8-4b5d-8f61-43ad0f61e20b",
        "_uuid": "c35a2a5f1e05090567b16ba4faaff3d071fa746d",
        "trusted": false,
        "collapsed": true
      },
      "cell_type": "code",
      "source": "train.head()",
      "execution_count": null,
      "outputs": []
    },
    {
      "metadata": {
        "_cell_guid": "34648586-9674-4ec9-9c8e-4172cd74f6d6",
        "_uuid": "7c31409a6e1a71c4b3b507b0df1b357b35489aa5",
        "trusted": false,
        "collapsed": true
      },
      "cell_type": "code",
      "source": "X_train = np.asarray(train.ix[:,1:].values,dtype=np.float32)\nY_train = np.asarray(train.ix[:,0].values,dtype=np.int32)\nX_test = np.asarray(test.values,dtype=np.float32)",
      "execution_count": null,
      "outputs": []
    },
    {
      "metadata": {
        "scrolled": true,
        "_cell_guid": "e5b50971-1f17-49f5-be36-854a5c6049b5",
        "_uuid": "0dd7eaeaa91511920cb983684ccd6103d2b5de58",
        "trusted": false,
        "collapsed": true
      },
      "cell_type": "code",
      "source": "X_train",
      "execution_count": null,
      "outputs": []
    },
    {
      "metadata": {
        "_cell_guid": "5168d6ef-4b7f-4e41-ad9a-9281e4960c44",
        "_uuid": "3639603fd1ebda080fe19aa7091164de93717cc8",
        "trusted": false,
        "collapsed": true
      },
      "cell_type": "code",
      "source": "ins = np.shape(X_train)[0]\nprint(np.shape(X_train))",
      "execution_count": null,
      "outputs": []
    },
    {
      "metadata": {
        "_cell_guid": "3ef1d931-b0ae-48df-b075-ae43db6a767d",
        "_uuid": "6b7c14a2722162cec4ad847e1fb1aba479714c80",
        "trusted": false,
        "collapsed": true
      },
      "cell_type": "code",
      "source": "Y_train",
      "execution_count": null,
      "outputs": []
    },
    {
      "metadata": {
        "_cell_guid": "826580b8-00cd-413a-8247-22bafc58d6b5",
        "collapsed": true,
        "_uuid": "4e3ced4f75472b82b4c0ab473c1a14d991e0609e",
        "trusted": false
      },
      "cell_type": "code",
      "source": "import matplotlib.pyplot as plt\n%matplotlib inline",
      "execution_count": null,
      "outputs": []
    },
    {
      "metadata": {
        "_cell_guid": "e649b213-2be7-4541-9c3e-2044dcb5a5c1",
        "_uuid": "01a56dd3e7eee0ce3a122aa7106452271d0e95f3",
        "trusted": false,
        "collapsed": true
      },
      "cell_type": "code",
      "source": "X_train = np.reshape(X_train,(ins,28,28))\n\nfor i in range(1,10):\n    plt.subplot(330+i)\n    plt.imshow(X_train[i], cmap=plt.get_cmap('gray'))\n    plt.title(Y_train[i])",
      "execution_count": null,
      "outputs": []
    },
    {
      "metadata": {
        "_cell_guid": "066fad22-8a47-4205-a5dd-3e39ec902ff4",
        "_uuid": "2b43ef043a24de5a1f7ec1763e916fffee9a9508",
        "trusted": false,
        "collapsed": true
      },
      "cell_type": "code",
      "source": "X_train = np.reshape(X_train,(ins,28,28,1))",
      "execution_count": null,
      "outputs": []
    },
    {
      "metadata": {
        "_cell_guid": "d92e1caf-3536-490f-8f55-531835745374",
        "_uuid": "0dadaa27ec001024e5c10b92ab673aa2305ec5f6",
        "trusted": false,
        "collapsed": true
      },
      "cell_type": "code",
      "source": "X_test = np.reshape(X_test,(np.shape(X_test)[0],28,28,1))",
      "execution_count": null,
      "outputs": []
    },
    {
      "metadata": {
        "_cell_guid": "24ff85f1-c895-493f-a93b-fbc9c28dab3b",
        "_uuid": "aa2041511cae1a903c565c479b15c4dc2340a7b2",
        "trusted": false,
        "collapsed": true
      },
      "cell_type": "code",
      "source": "from keras.utils.np_utils import to_categorical,normalize",
      "execution_count": null,
      "outputs": []
    },
    {
      "metadata": {
        "_cell_guid": "68331a9f-3574-44a5-8cff-1d04eb1a31ef",
        "_uuid": "c542f2f27d379a285038d9e25b40f127fde3bec9",
        "trusted": false,
        "collapsed": true
      },
      "cell_type": "code",
      "source": "Y_train = to_categorical(Y_train)\nY_train",
      "execution_count": null,
      "outputs": []
    },
    {
      "metadata": {
        "_cell_guid": "651d2b4b-847f-4df9-87ef-f554a44b82f8",
        "collapsed": true,
        "_uuid": "c9cdf204128c3da6b4057b027718fc5570bba4af",
        "trusted": false
      },
      "cell_type": "code",
      "source": "seed = 124\nnp.random.seed = seed",
      "execution_count": null,
      "outputs": []
    },
    {
      "metadata": {
        "_cell_guid": "67c21bf3-5833-4879-ac74-a90c828c0007",
        "collapsed": true,
        "_uuid": "b291514776af6cbcccfa92d9d7a7e9ef408a3e97",
        "trusted": false
      },
      "cell_type": "code",
      "source": "from keras.models import Sequential\nfrom keras.layers.core import Dropout,Lambda,Flatten,Activation,Dense\nfrom keras.layers import Conv2D,MaxPool2D,AveragePooling2D,BatchNormalization\nfrom keras import optimizers",
      "execution_count": null,
      "outputs": []
    },
    {
      "metadata": {
        "_cell_guid": "7ed0940d-272a-4a27-aeb6-e6d42cc8be5b",
        "collapsed": true,
        "_uuid": "3e20c74d60a30a11673fde45c3579305e0c71058",
        "trusted": false
      },
      "cell_type": "code",
      "source": "model = Sequential()\nmodel.add(Conv2D(32,(5,5),strides=(2,2),padding=\"same\",input_shape=(28,28,1)))\nmodel.add(Activation('elu'))\nmodel.add(MaxPool2D(pool_size=(2,2),padding=\"same\"))\nmodel.add(Conv2D(64,(5,5),strides=(2,2),padding=\"same\"))\nmodel.add(Activation('elu'))\nmodel.add(MaxPool2D(pool_size=(2,2),padding=\"same\"))",
      "execution_count": null,
      "outputs": []
    },
    {
      "metadata": {
        "_cell_guid": "0dfde36f-507a-41ea-bae1-997a2593c889",
        "_uuid": "c2121d9c38d4962e0efb4eff4f4b75316b1d2a42",
        "trusted": false,
        "collapsed": true
      },
      "cell_type": "code",
      "source": "model.add(Flatten())\nmodel.add(Dense(500,activation=\"elu\"))\nmodel.add(BatchNormalization())\nmodel.add(Dropout(0.5))\nmodel.add(Dense(10,activation=\"softmax\"))",
      "execution_count": null,
      "outputs": []
    },
    {
      "metadata": {
        "_cell_guid": "1f52445f-bc63-4f0d-ba5e-d5a7b0f12352",
        "_uuid": "62d102e72ec8a0df4b292ccdf2daac2de8d05704",
        "trusted": false,
        "collapsed": true
      },
      "cell_type": "code",
      "source": "print(model.input_shape)\nprint(model.output_shape)",
      "execution_count": null,
      "outputs": []
    },
    {
      "metadata": {
        "_cell_guid": "8bdcbba8-89e1-4a20-a2a5-31bdaf7bbfc9",
        "_uuid": "36a52767503ce951c96a84bf3902f9ceb84e3406",
        "trusted": false,
        "collapsed": true
      },
      "cell_type": "code",
      "source": "model.compile(optimizer=optimizers.Nadam(),loss=\"categorical_crossentropy\",metrics=['accuracy'])",
      "execution_count": null,
      "outputs": []
    },
    {
      "metadata": {
        "_cell_guid": "7e17f58b-6342-4ac3-8073-99cab9f08d40",
        "_uuid": "3e6cad324b17c5d8154674c06cb109b29d0b6932",
        "trusted": false,
        "collapsed": true
      },
      "cell_type": "code",
      "source": "from keras.preprocessing import image\ngen = image.ImageDataGenerator()",
      "execution_count": null,
      "outputs": []
    },
    {
      "metadata": {
        "_cell_guid": "4f0d6e0a-be2d-46d0-8d12-b60bfaf195f0",
        "collapsed": true,
        "_uuid": "344a1d1ba615510d766ff82afbd680155ae1586a",
        "trusted": false
      },
      "cell_type": "code",
      "source": "from sklearn.model_selection import train_test_split\nX_train1, X_val, Y_train1, Y_val = train_test_split(X_train, Y_train, test_size=0.10, random_state=124)\nbatches = gen.flow(X_train1, Y_train1, batch_size=64)\nval_batches=gen.flow(X_val, Y_val, batch_size=64)",
      "execution_count": null,
      "outputs": []
    },
    {
      "metadata": {
        "_cell_guid": "cc58275d-533d-4dc9-83db-17b4b535be9e",
        "_uuid": "926293028097617077a86e23fbac7652b97b5ba5",
        "trusted": false,
        "collapsed": true
      },
      "cell_type": "code",
      "source": "history=model.fit_generator(batches, batches.n, nb_epoch=1,validation_data=val_batches, nb_val_samples=val_batches.n)",
      "execution_count": null,
      "outputs": []
    },
    {
      "metadata": {
        "_cell_guid": "a42d38d3-1471-407b-8410-b437d157259d",
        "_uuid": "3d7d5235215d081b5505cd92f27199e642e110ad",
        "trusted": false,
        "collapsed": true
      },
      "cell_type": "code",
      "source": "hist = history.history\nprint(hist.keys)",
      "execution_count": null,
      "outputs": []
    },
    {
      "metadata": {
        "_cell_guid": "d18ee4e0-deed-491f-9a63-41ef1ebabd9d",
        "_uuid": "1ce67dcbdebe8661bb3adc5f040db504ce4d3351",
        "trusted": false,
        "collapsed": true
      },
      "cell_type": "code",
      "source": "print(hist['acc'])\nprint(hist['val_acc'])",
      "execution_count": null,
      "outputs": []
    },
    {
      "metadata": {
        "_cell_guid": "d5bac304-9305-4358-bcd9-e15cc396a124",
        "collapsed": true,
        "_uuid": "814c73367874a27e3dfd05a97d4b42d2e52ca59c",
        "trusted": false
      },
      "cell_type": "code",
      "source": "predictions = model.predict_classes(X_test, verbose=0)\n\nsubmissions=pd.DataFrame({\"ImageId\": list(range(1,len(predictions)+1)),\n                         \"Label\": predictions})\nsubmissions.to_csv(\"DR.csv\", index=False, header=True)",
      "execution_count": null,
      "outputs": []
    },
    {
      "metadata": {
        "_cell_guid": "03f5bb7c-847a-409f-bd0d-a36932b362ac",
        "collapsed": true,
        "_uuid": "4b6fb154ba8b5615ef3063692dca70cc8bac0529",
        "trusted": false
      },
      "cell_type": "code",
      "source": "",
      "execution_count": null,
      "outputs": []
    }
  ],
  "metadata": {
    "language_info": {
      "file_extension": ".py",
      "codemirror_mode": {
        "version": 3,
        "name": "ipython"
      },
      "pygments_lexer": "ipython3",
      "mimetype": "text/x-python",
      "nbconvert_exporter": "python",
      "version": "3.6.3",
      "name": "python"
    },
    "kernelspec": {
      "display_name": "Python 3",
      "language": "python",
      "name": "python3"
    }
  },
  "nbformat": 4,
  "nbformat_minor": 1
}