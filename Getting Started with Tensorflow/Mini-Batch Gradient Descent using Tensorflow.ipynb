{
 "cells": [
  {
   "cell_type": "code",
   "execution_count": null,
   "metadata": {
    "collapsed": true
   },
   "outputs": [],
   "source": [
    "import tensorflow as tf\n",
    "import numpy as np"
   ]
  },
  {
   "cell_type": "code",
   "execution_count": null,
   "metadata": {},
   "outputs": [],
   "source": [
    "X = tf.placeholder(np.float32,name=\"X\")\n",
    "Y = tf.placeholder(np.int32,shape=(None,1),name=\"Y\")"
   ]
  },
  {
   "cell_type": "code",
   "execution_count": null,
   "metadata": {},
   "outputs": [],
   "source": [
    "batch_size = 50\n",
    "learning_rate = 0.01\n",
    "n_epoch = 1000\n",
    "theta = tf.Variable(tf.random_uniform([n,1],-1,1),name=\"theta\")"
   ]
  },
  {
   "cell_type": "code",
   "execution_count": null,
   "metadata": {
    "scrolled": true
   },
   "outputs": [],
   "source": [
    "cost_function = tf.reduce_mean(tf.square(tf.matmul(X,theta)-Y),name=\"cost_function\")\n",
    "gradients = tf.gradients(cost_function,[theta])[0]\n",
    "training_op = tf.assign(theta,theta - learning_rate*gradients)"
   ]
  },
  {
   "cell_type": "code",
   "execution_count": null,
   "metadata": {},
   "outputs": [],
   "source": [
    "init = tf.global_variables_initializer()\n",
    "\n",
    "with tf.Session() as sess:\n",
    "    sess.run(init)\n",
    "    \n",
    "    for i in range(n_epoch):\n",
    "        for j in range(m//batch_size):\n",
    "            X_train, Y_train = get_next_batch(X,Y,batch_size)\n",
    "            sess.run(training_op,feed_dict = {X:X_train,Y:Y_train})"
   ]
  },
  {
   "cell_type": "code",
   "execution_count": null,
   "metadata": {},
   "outputs": [],
   "source": []
  },
  {
   "cell_type": "code",
   "execution_count": null,
   "metadata": {
    "collapsed": true
   },
   "outputs": [],
   "source": []
  }
 ],
 "metadata": {
  "kernelspec": {
   "display_name": "Python 3",
   "language": "python",
   "name": "python3"
  }
 },
 "nbformat": 4,
 "nbformat_minor": 2
}
