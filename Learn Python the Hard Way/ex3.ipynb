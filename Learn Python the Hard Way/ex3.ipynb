{
 "cells": [
  {
   "cell_type": "code",
   "execution_count": 2,
   "metadata": {},
   "outputs": [
    {
     "name": "stdout",
     "output_type": "stream",
     "text": [
      "I will now count my chickens:\n",
      "Hens 30.0\n",
      "Roosters 97\n",
      "Now I will count the eggs:\n",
      "6.75\n",
      "Is it true that 3 + 2 < 5 - 7?\n",
      "False\n",
      "What is 3 + 2? 5\n"
     ]
    }
   ],
   "source": [
    "print(\"I will now count my chickens:\")\n",
    "print(\"Hens\", 25 + 30 / 6)\n",
    "print(\"Roosters\", 100 - 25 * 3 % 4)\n",
    "print(\"Now I will count the eggs:\")\n",
    "print(3 + 2 + 1 - 5 + 4 % 2 - 1 / 4 + 6)\n",
    "print(\"Is it true that 3 + 2 < 5 - 7?\")\n",
    "print(3 + 2 < 5 - 7)\n",
    "print(\"What is 3 + 2?\", 3 + 2)"
   ]
  },
  {
   "cell_type": "code",
   "execution_count": null,
   "metadata": {},
   "outputs": [],
   "source": []
  }
 ],
 "metadata": {
  "kernelspec": {
   "display_name": "Python 3",
   "language": "python",
   "name": "python3"
  },
  "language_info": {
   "codemirror_mode": {
    "name": "ipython",
    "version": 3
   },
   "file_extension": ".py",
   "mimetype": "text/x-python",
   "name": "python",
   "nbconvert_exporter": "python",
   "pygments_lexer": "ipython3",
   "version": "3.6.2"
  }
 },
 "nbformat": 4,
 "nbformat_minor": 2
}
