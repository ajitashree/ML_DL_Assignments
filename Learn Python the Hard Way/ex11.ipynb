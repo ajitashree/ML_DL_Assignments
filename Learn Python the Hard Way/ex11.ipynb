{
 "cells": [
  {
   "cell_type": "code",
   "execution_count": 5,
   "metadata": {},
   "outputs": [
    {
     "name": "stdout",
     "output_type": "stream",
     "text": [
      "How old are you? 18\n",
      "How tall are you? 180\n",
      "How much do you weigh? 95\n",
      "So, you're '18' old, '180' tall and '95' heavy.\n"
     ]
    }
   ],
   "source": [
    "print(\"How old are you?\",end=\" \")\n",
    "age = input()\n",
    "print(\"How tall are you?\",end=\" \")\n",
    "height = input()\n",
    "print(\"How much do you weigh?\",end=\" \")\n",
    "weight = input()\n",
    "print(\"So, you're %r old, %r tall and %r heavy.\" % (age, height, weight))"
   ]
  },
  {
   "cell_type": "code",
   "execution_count": null,
   "metadata": {
    "collapsed": true
   },
   "outputs": [],
   "source": []
  }
 ],
 "metadata": {
  "kernelspec": {
   "display_name": "Python 3",
   "language": "python",
   "name": "python3"
  },
  "language_info": {
   "codemirror_mode": {
    "name": "ipython",
    "version": 3
   },
   "file_extension": ".py",
   "mimetype": "text/x-python",
   "name": "python",
   "nbconvert_exporter": "python",
   "pygments_lexer": "ipython3",
   "version": "3.6.2"
  }
 },
 "nbformat": 4,
 "nbformat_minor": 2
}
